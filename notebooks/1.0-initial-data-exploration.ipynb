{
 "cells": [
  {
   "cell_type": "markdown",
   "source": [
    "# Exploration of the given data"
   ],
   "metadata": {
    "collapsed": false
   }
  },
  {
   "cell_type": "code",
   "execution_count": 1,
   "metadata": {
    "ExecuteTime": {
     "end_time": "2023-11-04T17:15:40.878866400Z",
     "start_time": "2023-11-04T17:15:40.728020400Z"
    }
   },
   "outputs": [],
   "source": [
    "import sys\n",
    "sys.path.append(r\"../\")"
   ]
  },
  {
   "cell_type": "code",
   "execution_count": 2,
   "metadata": {
    "ExecuteTime": {
     "end_time": "2023-11-04T17:15:42.713585900Z",
     "start_time": "2023-11-04T17:15:40.733182Z"
    }
   },
   "outputs": [
    {
     "data": {
      "text/plain": "                                           reference  \\\n0  If Alkar is flooding her with psychic waste, t...   \n1                          Now you're getting nasty.   \n2           Well, we could spare your life, for one.   \n3          Ah! Monkey, you've got to snap out of it.   \n4                   I've got orders to put her down.   \n\n                                         translation  similarity  lenght_diff  \\\n0  if Alkar floods her with her mental waste, it ...    0.785171     0.010309   \n1                        you're becoming disgusting.    0.749687     0.071429   \n2                      well, we can spare your life.    0.919051     0.268293   \n3                       monkey, you have to wake up.    0.664333     0.309524   \n4                         I have orders to kill her.    0.726639     0.181818   \n\n    ref_tox   trn_tox  \n0  0.014195  0.981983  \n1  0.065473  0.999039  \n2  0.213313  0.985068  \n3  0.053362  0.994215  \n4  0.009402  0.999348  ",
      "text/html": "<div>\n<style scoped>\n    .dataframe tbody tr th:only-of-type {\n        vertical-align: middle;\n    }\n\n    .dataframe tbody tr th {\n        vertical-align: top;\n    }\n\n    .dataframe thead th {\n        text-align: right;\n    }\n</style>\n<table border=\"1\" class=\"dataframe\">\n  <thead>\n    <tr style=\"text-align: right;\">\n      <th></th>\n      <th>reference</th>\n      <th>translation</th>\n      <th>similarity</th>\n      <th>lenght_diff</th>\n      <th>ref_tox</th>\n      <th>trn_tox</th>\n    </tr>\n  </thead>\n  <tbody>\n    <tr>\n      <th>0</th>\n      <td>If Alkar is flooding her with psychic waste, t...</td>\n      <td>if Alkar floods her with her mental waste, it ...</td>\n      <td>0.785171</td>\n      <td>0.010309</td>\n      <td>0.014195</td>\n      <td>0.981983</td>\n    </tr>\n    <tr>\n      <th>1</th>\n      <td>Now you're getting nasty.</td>\n      <td>you're becoming disgusting.</td>\n      <td>0.749687</td>\n      <td>0.071429</td>\n      <td>0.065473</td>\n      <td>0.999039</td>\n    </tr>\n    <tr>\n      <th>2</th>\n      <td>Well, we could spare your life, for one.</td>\n      <td>well, we can spare your life.</td>\n      <td>0.919051</td>\n      <td>0.268293</td>\n      <td>0.213313</td>\n      <td>0.985068</td>\n    </tr>\n    <tr>\n      <th>3</th>\n      <td>Ah! Monkey, you've got to snap out of it.</td>\n      <td>monkey, you have to wake up.</td>\n      <td>0.664333</td>\n      <td>0.309524</td>\n      <td>0.053362</td>\n      <td>0.994215</td>\n    </tr>\n    <tr>\n      <th>4</th>\n      <td>I've got orders to put her down.</td>\n      <td>I have orders to kill her.</td>\n      <td>0.726639</td>\n      <td>0.181818</td>\n      <td>0.009402</td>\n      <td>0.999348</td>\n    </tr>\n  </tbody>\n</table>\n</div>"
     },
     "execution_count": 2,
     "metadata": {},
     "output_type": "execute_result"
    }
   ],
   "source": [
    "from src.data.data_reading import read_raw_data\n",
    "\n",
    "df = read_raw_data()\n",
    "df.head()"
   ]
  },
  {
   "cell_type": "markdown",
   "source": [
    "## Analyze the dataframe"
   ],
   "metadata": {
    "collapsed": false
   }
  },
  {
   "cell_type": "markdown",
   "source": [
    "### Check columns and their types"
   ],
   "metadata": {
    "collapsed": false
   }
  },
  {
   "cell_type": "code",
   "execution_count": 3,
   "outputs": [
    {
     "name": "stdout",
     "output_type": "stream",
     "text": [
      "<class 'pandas.core.frame.DataFrame'>\n",
      "Index: 577777 entries, 0 to 577776\n",
      "Data columns (total 6 columns):\n",
      " #   Column       Non-Null Count   Dtype  \n",
      "---  ------       --------------   -----  \n",
      " 0   reference    577777 non-null  object \n",
      " 1   translation  577777 non-null  object \n",
      " 2   similarity   577777 non-null  float64\n",
      " 3   lenght_diff  577777 non-null  float64\n",
      " 4   ref_tox      577777 non-null  float64\n",
      " 5   trn_tox      577777 non-null  float64\n",
      "dtypes: float64(4), object(2)\n",
      "memory usage: 30.9+ MB\n"
     ]
    }
   ],
   "source": [
    "df.info()"
   ],
   "metadata": {
    "collapsed": false,
    "ExecuteTime": {
     "end_time": "2023-11-04T17:15:42.839176600Z",
     "start_time": "2023-11-04T17:15:42.759594200Z"
    }
   }
  },
  {
   "cell_type": "markdown",
   "source": [
    "### Check values of the columns"
   ],
   "metadata": {
    "collapsed": false
   }
  },
  {
   "cell_type": "code",
   "execution_count": 4,
   "outputs": [
    {
     "data": {
      "text/plain": "          similarity    lenght_diff        ref_tox        trn_tox\ncount  577777.000000  577777.000000  577777.000000  577777.000000\nmean        0.758469       0.157652       0.541372       0.434490\nstd         0.092695       0.108057       0.457571       0.458904\nmin         0.600001       0.000000       0.000033       0.000033\n25%         0.681105       0.066667       0.012171       0.000707\n50%         0.754439       0.141791       0.806795       0.085133\n75%         0.831244       0.238095       0.990469       0.973739\nmax         0.950000       0.400000       0.999724       0.999730",
      "text/html": "<div>\n<style scoped>\n    .dataframe tbody tr th:only-of-type {\n        vertical-align: middle;\n    }\n\n    .dataframe tbody tr th {\n        vertical-align: top;\n    }\n\n    .dataframe thead th {\n        text-align: right;\n    }\n</style>\n<table border=\"1\" class=\"dataframe\">\n  <thead>\n    <tr style=\"text-align: right;\">\n      <th></th>\n      <th>similarity</th>\n      <th>lenght_diff</th>\n      <th>ref_tox</th>\n      <th>trn_tox</th>\n    </tr>\n  </thead>\n  <tbody>\n    <tr>\n      <th>count</th>\n      <td>577777.000000</td>\n      <td>577777.000000</td>\n      <td>577777.000000</td>\n      <td>577777.000000</td>\n    </tr>\n    <tr>\n      <th>mean</th>\n      <td>0.758469</td>\n      <td>0.157652</td>\n      <td>0.541372</td>\n      <td>0.434490</td>\n    </tr>\n    <tr>\n      <th>std</th>\n      <td>0.092695</td>\n      <td>0.108057</td>\n      <td>0.457571</td>\n      <td>0.458904</td>\n    </tr>\n    <tr>\n      <th>min</th>\n      <td>0.600001</td>\n      <td>0.000000</td>\n      <td>0.000033</td>\n      <td>0.000033</td>\n    </tr>\n    <tr>\n      <th>25%</th>\n      <td>0.681105</td>\n      <td>0.066667</td>\n      <td>0.012171</td>\n      <td>0.000707</td>\n    </tr>\n    <tr>\n      <th>50%</th>\n      <td>0.754439</td>\n      <td>0.141791</td>\n      <td>0.806795</td>\n      <td>0.085133</td>\n    </tr>\n    <tr>\n      <th>75%</th>\n      <td>0.831244</td>\n      <td>0.238095</td>\n      <td>0.990469</td>\n      <td>0.973739</td>\n    </tr>\n    <tr>\n      <th>max</th>\n      <td>0.950000</td>\n      <td>0.400000</td>\n      <td>0.999724</td>\n      <td>0.999730</td>\n    </tr>\n  </tbody>\n</table>\n</div>"
     },
     "execution_count": 4,
     "metadata": {},
     "output_type": "execute_result"
    }
   ],
   "source": [
    "df.describe()"
   ],
   "metadata": {
    "collapsed": false,
    "ExecuteTime": {
     "end_time": "2023-11-04T17:15:42.908100700Z",
     "start_time": "2023-11-04T17:15:42.771171600Z"
    }
   }
  },
  {
   "cell_type": "markdown",
   "source": [
    "### Check for missing values"
   ],
   "metadata": {
    "collapsed": false
   }
  },
  {
   "cell_type": "code",
   "execution_count": 5,
   "outputs": [
    {
     "data": {
      "text/plain": "reference      0\ntranslation    0\nsimilarity     0\nlenght_diff    0\nref_tox        0\ntrn_tox        0\ndtype: int64"
     },
     "execution_count": 5,
     "metadata": {},
     "output_type": "execute_result"
    }
   ],
   "source": [
    "df.isnull().sum()"
   ],
   "metadata": {
    "collapsed": false,
    "ExecuteTime": {
     "end_time": "2023-11-04T17:15:42.940126300Z",
     "start_time": "2023-11-04T17:15:42.868097Z"
    }
   }
  },
  {
   "cell_type": "markdown",
   "source": [
    "### Change order of values in row (reference and translation) if ref_tox > trn_tox"
   ],
   "metadata": {
    "collapsed": false
   }
  },
  {
   "cell_type": "code",
   "execution_count": 6,
   "outputs": [],
   "source": [
    "df.loc[df['ref_tox'] < df['trn_tox'], ['reference', 'translation', 'ref_tox', 'trn_tox']] = \\\n",
    "    df.loc[df['ref_tox'] < df['trn_tox'], ['translation', 'reference', 'trn_tox', 'ref_tox']].values"
   ],
   "metadata": {
    "collapsed": false,
    "ExecuteTime": {
     "end_time": "2023-11-04T17:15:43.407758100Z",
     "start_time": "2023-11-04T17:15:42.937124400Z"
    }
   }
  },
  {
   "cell_type": "code",
   "execution_count": 7,
   "outputs": [
    {
     "data": {
      "text/plain": "                                           reference  \\\n0  if Alkar floods her with her mental waste, it ...   \n1                        you're becoming disgusting.   \n2                      well, we can spare your life.   \n3                       monkey, you have to wake up.   \n4                         I have orders to kill her.   \n\n                                         translation  similarity  lenght_diff  \\\n0  If Alkar is flooding her with psychic waste, t...    0.785171     0.010309   \n1                          Now you're getting nasty.    0.749687     0.071429   \n2           Well, we could spare your life, for one.    0.919051     0.268293   \n3          Ah! Monkey, you've got to snap out of it.    0.664333     0.309524   \n4                   I've got orders to put her down.    0.726639     0.181818   \n\n    ref_tox   trn_tox  \n0  0.981983  0.014195  \n1  0.999039  0.065473  \n2  0.985068  0.213313  \n3  0.994215  0.053362  \n4  0.999348  0.009402  ",
      "text/html": "<div>\n<style scoped>\n    .dataframe tbody tr th:only-of-type {\n        vertical-align: middle;\n    }\n\n    .dataframe tbody tr th {\n        vertical-align: top;\n    }\n\n    .dataframe thead th {\n        text-align: right;\n    }\n</style>\n<table border=\"1\" class=\"dataframe\">\n  <thead>\n    <tr style=\"text-align: right;\">\n      <th></th>\n      <th>reference</th>\n      <th>translation</th>\n      <th>similarity</th>\n      <th>lenght_diff</th>\n      <th>ref_tox</th>\n      <th>trn_tox</th>\n    </tr>\n  </thead>\n  <tbody>\n    <tr>\n      <th>0</th>\n      <td>if Alkar floods her with her mental waste, it ...</td>\n      <td>If Alkar is flooding her with psychic waste, t...</td>\n      <td>0.785171</td>\n      <td>0.010309</td>\n      <td>0.981983</td>\n      <td>0.014195</td>\n    </tr>\n    <tr>\n      <th>1</th>\n      <td>you're becoming disgusting.</td>\n      <td>Now you're getting nasty.</td>\n      <td>0.749687</td>\n      <td>0.071429</td>\n      <td>0.999039</td>\n      <td>0.065473</td>\n    </tr>\n    <tr>\n      <th>2</th>\n      <td>well, we can spare your life.</td>\n      <td>Well, we could spare your life, for one.</td>\n      <td>0.919051</td>\n      <td>0.268293</td>\n      <td>0.985068</td>\n      <td>0.213313</td>\n    </tr>\n    <tr>\n      <th>3</th>\n      <td>monkey, you have to wake up.</td>\n      <td>Ah! Monkey, you've got to snap out of it.</td>\n      <td>0.664333</td>\n      <td>0.309524</td>\n      <td>0.994215</td>\n      <td>0.053362</td>\n    </tr>\n    <tr>\n      <th>4</th>\n      <td>I have orders to kill her.</td>\n      <td>I've got orders to put her down.</td>\n      <td>0.726639</td>\n      <td>0.181818</td>\n      <td>0.999348</td>\n      <td>0.009402</td>\n    </tr>\n  </tbody>\n</table>\n</div>"
     },
     "execution_count": 7,
     "metadata": {},
     "output_type": "execute_result"
    }
   ],
   "source": [
    "df.head()"
   ],
   "metadata": {
    "collapsed": false,
    "ExecuteTime": {
     "end_time": "2023-11-04T17:15:43.425216Z",
     "start_time": "2023-11-04T17:15:43.408758600Z"
    }
   }
  },
  {
   "cell_type": "markdown",
   "source": [
    "### Modify dataset for training"
   ],
   "metadata": {
    "collapsed": false
   }
  },
  {
   "cell_type": "code",
   "execution_count": 8,
   "outputs": [
    {
     "data": {
      "text/plain": "                                            toxic-en  \\\n0  if Alkar floods her with her mental waste, it ...   \n1                        you're becoming disgusting.   \n2                      well, we can spare your life.   \n3                       monkey, you have to wake up.   \n4                         I have orders to kill her.   \n\n                                          neutral-en  \n0  If Alkar is flooding her with psychic waste, t...  \n1                          Now you're getting nasty.  \n2           Well, we could spare your life, for one.  \n3          Ah! Monkey, you've got to snap out of it.  \n4                   I've got orders to put her down.  ",
      "text/html": "<div>\n<style scoped>\n    .dataframe tbody tr th:only-of-type {\n        vertical-align: middle;\n    }\n\n    .dataframe tbody tr th {\n        vertical-align: top;\n    }\n\n    .dataframe thead th {\n        text-align: right;\n    }\n</style>\n<table border=\"1\" class=\"dataframe\">\n  <thead>\n    <tr style=\"text-align: right;\">\n      <th></th>\n      <th>toxic-en</th>\n      <th>neutral-en</th>\n    </tr>\n  </thead>\n  <tbody>\n    <tr>\n      <th>0</th>\n      <td>if Alkar floods her with her mental waste, it ...</td>\n      <td>If Alkar is flooding her with psychic waste, t...</td>\n    </tr>\n    <tr>\n      <th>1</th>\n      <td>you're becoming disgusting.</td>\n      <td>Now you're getting nasty.</td>\n    </tr>\n    <tr>\n      <th>2</th>\n      <td>well, we can spare your life.</td>\n      <td>Well, we could spare your life, for one.</td>\n    </tr>\n    <tr>\n      <th>3</th>\n      <td>monkey, you have to wake up.</td>\n      <td>Ah! Monkey, you've got to snap out of it.</td>\n    </tr>\n    <tr>\n      <th>4</th>\n      <td>I have orders to kill her.</td>\n      <td>I've got orders to put her down.</td>\n    </tr>\n  </tbody>\n</table>\n</div>"
     },
     "execution_count": 8,
     "metadata": {},
     "output_type": "execute_result"
    }
   ],
   "source": [
    "df = df.rename(columns={\"reference\": \"toxic-en\", \"translation\": \"neutral-en\"})[['toxic-en', 'neutral-en']]\n",
    "df.head()"
   ],
   "metadata": {
    "collapsed": false,
    "ExecuteTime": {
     "end_time": "2023-11-04T17:15:43.539231200Z",
     "start_time": "2023-11-04T17:15:43.417214700Z"
    }
   }
  },
  {
   "cell_type": "markdown",
   "source": [
    "### Add result to combined dataset (data/interim/combined.tsv)"
   ],
   "metadata": {
    "collapsed": false
   }
  },
  {
   "cell_type": "code",
   "execution_count": 9,
   "outputs": [
    {
     "data": {
      "text/plain": "                                                 toxic-en  \\\n0       if Alkar floods her with her mental waste, it ...   \n1                             you're becoming disgusting.   \n2                           well, we can spare your life.   \n3                            monkey, you have to wake up.   \n4                              I have orders to kill her.   \n...                                                   ...   \n577772  you didn't know that Estelle stole your fish f...   \n577773                    It'il suck the life out of you!   \n577774                   I can't fuckin' take that, bruv.   \n577775  They called me a fucking hero. The truth is I ...   \n577776                                 I didn't fuck him.   \n\n                                               neutral-en  \n0       If Alkar is flooding her with psychic waste, t...  \n1                               Now you're getting nasty.  \n2                Well, we could spare your life, for one.  \n3               Ah! Monkey, you've got to snap out of it.  \n4                        I've got orders to put her down.  \n...                                                   ...  \n577772  You didn't know that Estelle had stolen some f...  \n577773                  you'd be sucked out of your life!  \n577774                          I really can't take this.  \n577775         they said I was a hero, but I didn't care.  \n577776                               I did not screw him.  \n\n[577777 rows x 2 columns]",
      "text/html": "<div>\n<style scoped>\n    .dataframe tbody tr th:only-of-type {\n        vertical-align: middle;\n    }\n\n    .dataframe tbody tr th {\n        vertical-align: top;\n    }\n\n    .dataframe thead th {\n        text-align: right;\n    }\n</style>\n<table border=\"1\" class=\"dataframe\">\n  <thead>\n    <tr style=\"text-align: right;\">\n      <th></th>\n      <th>toxic-en</th>\n      <th>neutral-en</th>\n    </tr>\n  </thead>\n  <tbody>\n    <tr>\n      <th>0</th>\n      <td>if Alkar floods her with her mental waste, it ...</td>\n      <td>If Alkar is flooding her with psychic waste, t...</td>\n    </tr>\n    <tr>\n      <th>1</th>\n      <td>you're becoming disgusting.</td>\n      <td>Now you're getting nasty.</td>\n    </tr>\n    <tr>\n      <th>2</th>\n      <td>well, we can spare your life.</td>\n      <td>Well, we could spare your life, for one.</td>\n    </tr>\n    <tr>\n      <th>3</th>\n      <td>monkey, you have to wake up.</td>\n      <td>Ah! Monkey, you've got to snap out of it.</td>\n    </tr>\n    <tr>\n      <th>4</th>\n      <td>I have orders to kill her.</td>\n      <td>I've got orders to put her down.</td>\n    </tr>\n    <tr>\n      <th>...</th>\n      <td>...</td>\n      <td>...</td>\n    </tr>\n    <tr>\n      <th>577772</th>\n      <td>you didn't know that Estelle stole your fish f...</td>\n      <td>You didn't know that Estelle had stolen some f...</td>\n    </tr>\n    <tr>\n      <th>577773</th>\n      <td>It'il suck the life out of you!</td>\n      <td>you'd be sucked out of your life!</td>\n    </tr>\n    <tr>\n      <th>577774</th>\n      <td>I can't fuckin' take that, bruv.</td>\n      <td>I really can't take this.</td>\n    </tr>\n    <tr>\n      <th>577775</th>\n      <td>They called me a fucking hero. The truth is I ...</td>\n      <td>they said I was a hero, but I didn't care.</td>\n    </tr>\n    <tr>\n      <th>577776</th>\n      <td>I didn't fuck him.</td>\n      <td>I did not screw him.</td>\n    </tr>\n  </tbody>\n</table>\n<p>577777 rows × 2 columns</p>\n</div>"
     },
     "execution_count": 9,
     "metadata": {},
     "output_type": "execute_result"
    }
   ],
   "source": [
    "from src.data.data_collector import add_to_combined\n",
    "\n",
    "print('Total combined size:', len(add_to_combined(df, is_initial=True)))"
   ],
   "metadata": {
    "collapsed": false,
    "ExecuteTime": {
     "end_time": "2023-11-04T17:15:45.310051200Z",
     "start_time": "2023-11-04T17:15:43.500226600Z"
    }
   }
  },
  {
   "cell_type": "code",
   "execution_count": 10,
   "outputs": [
    {
     "ename": "AssertionError",
     "evalue": "",
     "output_type": "error",
     "traceback": [
      "\u001B[1;31m---------------------------------------------------------------------------\u001B[0m",
      "\u001B[1;31mAssertionError\u001B[0m                            Traceback (most recent call last)",
      "Cell \u001B[1;32mIn[10], line 1\u001B[0m\n\u001B[1;32m----> 1\u001B[0m \u001B[38;5;28;01massert\u001B[39;00m \u001B[38;5;28;01mFalse\u001B[39;00m\n",
      "\u001B[1;31mAssertionError\u001B[0m: "
     ]
    }
   ],
   "source": [
    "assert False"
   ],
   "metadata": {
    "collapsed": false,
    "ExecuteTime": {
     "end_time": "2023-11-04T17:15:45.710286300Z",
     "start_time": "2023-11-04T17:15:45.311051200Z"
    }
   }
  },
  {
   "cell_type": "code",
   "execution_count": null,
   "outputs": [],
   "source": [
    "import pandas as pd\n",
    "part1 = df[['reference', 'ref_tox']].rename(columns={'reference': 'text', 'ref_tox': 'toxicity'})\n",
    "part2 = df[['translation', 'trn_tox']].rename(columns={'translation': 'text', 'trn_tox': 'toxicity'})\n",
    "combined = pd.concat([part1, part2])"
   ],
   "metadata": {
    "collapsed": false,
    "ExecuteTime": {
     "end_time": "2023-11-04T17:15:45.712285300Z",
     "start_time": "2023-11-04T17:15:45.712285300Z"
    }
   }
  },
  {
   "cell_type": "code",
   "execution_count": null,
   "outputs": [],
   "source": [
    "combined"
   ],
   "metadata": {
    "collapsed": false,
    "ExecuteTime": {
     "start_time": "2023-11-04T17:15:45.714285900Z"
    }
   }
  },
  {
   "cell_type": "code",
   "execution_count": null,
   "outputs": [],
   "source": [
    "import re"
   ],
   "metadata": {
    "collapsed": false,
    "ExecuteTime": {
     "start_time": "2023-11-04T17:15:45.715286300Z"
    }
   }
  },
  {
   "cell_type": "code",
   "execution_count": null,
   "outputs": [],
   "source": [
    "import nltk\n",
    "nltk.download('stopwords')"
   ],
   "metadata": {
    "collapsed": false,
    "ExecuteTime": {
     "start_time": "2023-11-04T17:15:45.717286100Z"
    }
   }
  },
  {
   "cell_type": "code",
   "execution_count": null,
   "outputs": [],
   "source": [
    "from nltk.tokenize import word_tokenize\n",
    "from nltk.corpus import stopwords\n",
    "from nltk.stem import PorterStemmer\n",
    "from tqdm.notebook import tqdm\n",
    "import numpy as np\n",
    "from joblib import Parallel, delayed\n",
    "\n",
    "stemmer = PorterStemmer()\n",
    "stop_words = set(stopwords.words('english'))\n",
    "\n",
    "regex_digit = re.compile(r'\\d+')\n",
    "regex_non_alpha = re.compile(r'[^a-z|\\s]+')\n",
    "regex_spaces = re.compile('\\s+')\n",
    "\n",
    "def preprocess_text(text):\n",
    "    text = text.lower()\n",
    "    text = regex_digit.sub('', text)\n",
    "    text = regex_non_alpha.sub('', text)\n",
    "    text = regex_spaces.sub(' ', text).strip()\n",
    "\n",
    "    text = word_tokenize(text)\n",
    "    text = [word for word in text if word not in stop_words]\n",
    "    text = [stemmer.stem(word) for word in text]\n",
    "\n",
    "    return ' '.join(text)\n",
    "\n",
    "def preprocess_text_parallel(df: pd.DataFrame, n_jobs=-1):\n",
    "    text_data = df['text'].to_numpy()\n",
    "    \n",
    "    with Parallel(n_jobs=n_jobs, backend='loky') as parallel:\n",
    "        result = parallel(delayed(preprocess_text)(text) for text in tqdm(text_data, desc=\"Processing\"))\n",
    "\n",
    "    df['text'] = result\n",
    "    return df[df['text'].str.len() > 0]"
   ],
   "metadata": {
    "collapsed": false,
    "ExecuteTime": {
     "start_time": "2023-11-04T17:15:45.718285700Z"
    }
   }
  },
  {
   "cell_type": "code",
   "execution_count": null,
   "outputs": [],
   "source": [
    "text_data = combined['text'].to_numpy()\n",
    "text_data"
   ],
   "metadata": {
    "collapsed": false,
    "ExecuteTime": {
     "start_time": "2023-11-04T17:15:45.720286400Z"
    }
   }
  },
  {
   "cell_type": "code",
   "execution_count": null,
   "outputs": [],
   "source": [
    "df = preprocess_text_parallel(combined)"
   ],
   "metadata": {
    "collapsed": false,
    "ExecuteTime": {
     "start_time": "2023-11-04T17:15:45.721288700Z"
    }
   }
  },
  {
   "cell_type": "code",
   "execution_count": null,
   "outputs": [],
   "source": [
    "df"
   ],
   "metadata": {
    "collapsed": false,
    "ExecuteTime": {
     "start_time": "2023-11-04T17:15:45.723285700Z"
    }
   }
  },
  {
   "cell_type": "code",
   "execution_count": null,
   "metadata": {
    "ExecuteTime": {
     "end_time": "2023-11-04T17:15:45.736286Z",
     "start_time": "2023-11-04T17:15:45.724289900Z"
    }
   },
   "outputs": [],
   "source": [
    "# baseline\n",
    "from sklearn.feature_extraction.text import CountVectorizer\n",
    "from sklearn.linear_model import LogisticRegression\n",
    "from sklearn.model_selection import train_test_split\n",
    "from sklearn.metrics import classification_report\n",
    "\n",
    "X = df['text'].to_numpy()\n",
    "y = df['toxicity'].to_numpy()\n",
    "\n",
    "X_train, X_test, y_train, y_test = train_test_split(X, y, test_size=0.2)\n",
    "\n",
    "vectorizer = CountVectorizer(max_features=10000)\n",
    "vectorizer.fit(X_train)\n",
    "\n",
    "X_train = vectorizer.transform(X_train)\n",
    "X_test = vectorizer.transform(X_test)\n",
    "\n",
    "clf = LogisticRegression(solver='liblinear')\n",
    "clf.fit(X_train, y_train > 0.5)\n",
    "\n",
    "y_pred = clf.predict(X_test)\n",
    "print(classification_report(y_test > 0.5, y_pred))\n",
    "\n",
    "print(clf.predict_proba(vectorizer.transform(['This is a test'])))"
   ]
  },
  {
   "cell_type": "code",
   "execution_count": null,
   "metadata": {
    "ExecuteTime": {
     "start_time": "2023-11-04T17:15:45.726287400Z"
    }
   },
   "outputs": [],
   "source": [
    "y_pred_proba = clf.predict_proba(X_test)\n",
    "pred = y_pred_proba[:, 1]\n",
    "# cross entropy\n",
    "-np.sum(y_test * np.log(pred) + (1 - y_test) * np.log(1 - pred + 0.00000001)) / len(y_test)"
   ]
  },
  {
   "cell_type": "code",
   "execution_count": null,
   "metadata": {
    "ExecuteTime": {
     "start_time": "2023-11-04T17:15:45.727288400Z"
    }
   },
   "outputs": [],
   "source": [
    "pred[pred > 0.9999].sum()"
   ]
  },
  {
   "cell_type": "code",
   "execution_count": null,
   "metadata": {
    "ExecuteTime": {
     "start_time": "2023-11-04T17:15:45.728287100Z"
    }
   },
   "outputs": [],
   "source": [
    "# baseline with tfidf\n",
    "from sklearn.feature_extraction.text import TfidfVectorizer\n",
    "from sklearn.linear_model import LogisticRegression\n",
    "from sklearn.model_selection import train_test_split\n",
    "from sklearn.metrics import classification_report\n",
    "\n",
    "X = df['text'].to_numpy()\n",
    "y = df['toxicity'].to_numpy()\n",
    "\n",
    "X_train, X_test, y_train, y_test = train_test_split(X, y, test_size=0.2)\n",
    "\n",
    "vectorizer = TfidfVectorizer()\n",
    "vectorizer.fit(X_train)\n",
    "\n",
    "X_train = vectorizer.transform(X_train)\n",
    "X_test = vectorizer.transform(X_test)\n",
    "\n",
    "clf = LogisticRegression()\n",
    "clf.fit(X_train, y_train > 0.5)\n",
    "\n",
    "y_pred = clf.predict(X_test)\n",
    "print(classification_report(y_test > 0.5, y_pred))"
   ]
  },
  {
   "cell_type": "code",
   "execution_count": null,
   "metadata": {
    "ExecuteTime": {
     "start_time": "2023-11-04T17:15:45.729286600Z"
    }
   },
   "outputs": [],
   "source": [
    "y_pred_proba = clf.predict_proba(X_test)\n",
    "pred = y_pred_proba[:, 1]\n",
    "# cross entropy\n",
    "-np.sum(y_test * np.log(pred) + (1 - y_test) * np.log(1 - pred)) / len(y_test)"
   ]
  }
 ],
 "metadata": {
  "kernelspec": {
   "display_name": "venv",
   "language": "python",
   "name": "python3"
  },
  "language_info": {
   "codemirror_mode": {
    "name": "ipython",
    "version": 3
   },
   "file_extension": ".py",
   "mimetype": "text/x-python",
   "name": "python",
   "nbconvert_exporter": "python",
   "pygments_lexer": "ipython3",
   "version": "3.11.0"
  }
 },
 "nbformat": 4,
 "nbformat_minor": 2
}
