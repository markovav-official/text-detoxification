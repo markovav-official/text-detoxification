{
 "cells": [
  {
   "cell_type": "markdown",
   "source": [
    "# Getting new data from the web"
   ],
   "metadata": {
    "collapsed": false
   },
   "id": "376b4018ce924d49"
  },
  {
   "cell_type": "markdown",
   "source": [
    "New data sources:\n",
    "- https://huggingface.co/datasets/s-nlp/paranmt_for_detox\n",
    "- https://huggingface.co/datasets/s-nlp/en_paradetox_content\n",
    "- https://huggingface.co/datasets/s-nlp/paradetox"
   ],
   "metadata": {
    "collapsed": false
   },
   "id": "b5c4a8deed1b29a8"
  },
  {
   "cell_type": "code",
   "execution_count": 1,
   "outputs": [],
   "source": [
    "import sys\n",
    "sys.path.append(r\"../\")"
   ],
   "metadata": {
    "collapsed": false,
    "ExecuteTime": {
     "end_time": "2023-11-04T17:15:57.666012200Z",
     "start_time": "2023-11-04T17:15:57.600387800Z"
    }
   },
   "id": "42ce693d413a12ad"
  },
  {
   "cell_type": "code",
   "execution_count": 2,
   "id": "initial_id",
   "metadata": {
    "collapsed": true,
    "ExecuteTime": {
     "end_time": "2023-11-04T17:15:58.519837700Z",
     "start_time": "2023-11-04T17:15:57.605005100Z"
    }
   },
   "outputs": [],
   "source": [
    "import pandas as pd\n",
    "from datasets import load_dataset"
   ]
  },
  {
   "cell_type": "code",
   "execution_count": 3,
   "outputs": [
    {
     "data": {
      "text/plain": "                                       toxic_comment  \\\n0                                       Shut it off!   \n1                               Damned strange ones.   \n2  Come on. I know I was a bit of a jerk back in ...   \n3  We're about to die of hunger; we're lost; we c...   \n4  We have acknowledged that we have feelings for...   \n\n                                     neutral_comment  \n0                                       turn it off!  \n1                                      pretty weird.  \n2  I know I was quite a bastard then, but I've gr...  \n3  we're lost, we can't leave this tree because t...  \n4  we knew we had feelings for each other and we ...  ",
      "text/html": "<div>\n<style scoped>\n    .dataframe tbody tr th:only-of-type {\n        vertical-align: middle;\n    }\n\n    .dataframe tbody tr th {\n        vertical-align: top;\n    }\n\n    .dataframe thead th {\n        text-align: right;\n    }\n</style>\n<table border=\"1\" class=\"dataframe\">\n  <thead>\n    <tr style=\"text-align: right;\">\n      <th></th>\n      <th>toxic_comment</th>\n      <th>neutral_comment</th>\n    </tr>\n  </thead>\n  <tbody>\n    <tr>\n      <th>0</th>\n      <td>Shut it off!</td>\n      <td>turn it off!</td>\n    </tr>\n    <tr>\n      <th>1</th>\n      <td>Damned strange ones.</td>\n      <td>pretty weird.</td>\n    </tr>\n    <tr>\n      <th>2</th>\n      <td>Come on. I know I was a bit of a jerk back in ...</td>\n      <td>I know I was quite a bastard then, but I've gr...</td>\n    </tr>\n    <tr>\n      <th>3</th>\n      <td>We're about to die of hunger; we're lost; we c...</td>\n      <td>we're lost, we can't leave this tree because t...</td>\n    </tr>\n    <tr>\n      <th>4</th>\n      <td>We have acknowledged that we have feelings for...</td>\n      <td>we knew we had feelings for each other and we ...</td>\n    </tr>\n  </tbody>\n</table>\n</div>"
     },
     "execution_count": 3,
     "metadata": {},
     "output_type": "execute_result"
    }
   ],
   "source": [
    "df1 = load_dataset(\"s-nlp/paranmt_for_detox\")[\"train\"].to_pandas()\n",
    "df1.head()"
   ],
   "metadata": {
    "collapsed": false,
    "ExecuteTime": {
     "end_time": "2023-11-04T17:16:03.605812800Z",
     "start_time": "2023-11-04T17:15:58.520838100Z"
    }
   },
   "id": "d7be7fb123c7f852"
  },
  {
   "cell_type": "code",
   "execution_count": 4,
   "outputs": [
    {
     "data": {
      "text/plain": "                                             neutral  \\\n0  so sad the voters in her district are stupid e...   \n1      Trump is indifferent and not into his senses.   \n2  professors who sit in an old buildings dreamin...   \n3           But you will vote for a wife of a friend   \n4  i hope i live long enough to see at least thes...   \n\n                                               toxic  match  \n0  so sad the voters in her district are stupid e...   True  \n1                  trump is a liar and a psychotic .   True  \n2  professors who sit in stinky old buildings dre...   True  \n3  but youll vote for the wife of a rapistsex fie...  False  \n4  i hope i live long enough to see at least thes...   True  ",
      "text/html": "<div>\n<style scoped>\n    .dataframe tbody tr th:only-of-type {\n        vertical-align: middle;\n    }\n\n    .dataframe tbody tr th {\n        vertical-align: top;\n    }\n\n    .dataframe thead th {\n        text-align: right;\n    }\n</style>\n<table border=\"1\" class=\"dataframe\">\n  <thead>\n    <tr style=\"text-align: right;\">\n      <th></th>\n      <th>neutral</th>\n      <th>toxic</th>\n      <th>match</th>\n    </tr>\n  </thead>\n  <tbody>\n    <tr>\n      <th>0</th>\n      <td>so sad the voters in her district are stupid e...</td>\n      <td>so sad the voters in her district are stupid e...</td>\n      <td>True</td>\n    </tr>\n    <tr>\n      <th>1</th>\n      <td>Trump is indifferent and not into his senses.</td>\n      <td>trump is a liar and a psychotic .</td>\n      <td>True</td>\n    </tr>\n    <tr>\n      <th>2</th>\n      <td>professors who sit in an old buildings dreamin...</td>\n      <td>professors who sit in stinky old buildings dre...</td>\n      <td>True</td>\n    </tr>\n    <tr>\n      <th>3</th>\n      <td>But you will vote for a wife of a friend</td>\n      <td>but youll vote for the wife of a rapistsex fie...</td>\n      <td>False</td>\n    </tr>\n    <tr>\n      <th>4</th>\n      <td>i hope i live long enough to see at least thes...</td>\n      <td>i hope i live long enough to see at least thes...</td>\n      <td>True</td>\n    </tr>\n  </tbody>\n</table>\n</div>"
     },
     "execution_count": 4,
     "metadata": {},
     "output_type": "execute_result"
    }
   ],
   "source": [
    "df2 = load_dataset(\"s-nlp/en_paradetox_content\")[\"train\"].to_pandas()\n",
    "df2.head()"
   ],
   "metadata": {
    "collapsed": false,
    "ExecuteTime": {
     "end_time": "2023-11-04T17:16:07.874916300Z",
     "start_time": "2023-11-04T17:16:03.606812300Z"
    }
   },
   "id": "6d96102673053ca8"
  },
  {
   "cell_type": "code",
   "execution_count": 5,
   "outputs": [
    {
     "data": {
      "text/plain": "                                    en_toxic_comment  \\\n0                           he had steel balls too !   \n1  dude should have been taken to api , he would ...   \n2  im not gonna sell the fucking picture , i just...   \n3  the garbage that is being created by cnn and o...   \n4  the reason they dont exist is because neither ...   \n\n                                  en_neutral_comment  \n0                                  he was brave too!  \n1  It would have been good if he went to api. He ...  \n2  I'm not gonna sell the picture, i just want to...  \n3  the news that is being created by cnn and othe...  \n4  The reason they don't exist is because neither...  ",
      "text/html": "<div>\n<style scoped>\n    .dataframe tbody tr th:only-of-type {\n        vertical-align: middle;\n    }\n\n    .dataframe tbody tr th {\n        vertical-align: top;\n    }\n\n    .dataframe thead th {\n        text-align: right;\n    }\n</style>\n<table border=\"1\" class=\"dataframe\">\n  <thead>\n    <tr style=\"text-align: right;\">\n      <th></th>\n      <th>en_toxic_comment</th>\n      <th>en_neutral_comment</th>\n    </tr>\n  </thead>\n  <tbody>\n    <tr>\n      <th>0</th>\n      <td>he had steel balls too !</td>\n      <td>he was brave too!</td>\n    </tr>\n    <tr>\n      <th>1</th>\n      <td>dude should have been taken to api , he would ...</td>\n      <td>It would have been good if he went to api. He ...</td>\n    </tr>\n    <tr>\n      <th>2</th>\n      <td>im not gonna sell the fucking picture , i just...</td>\n      <td>I'm not gonna sell the picture, i just want to...</td>\n    </tr>\n    <tr>\n      <th>3</th>\n      <td>the garbage that is being created by cnn and o...</td>\n      <td>the news that is being created by cnn and othe...</td>\n    </tr>\n    <tr>\n      <th>4</th>\n      <td>the reason they dont exist is because neither ...</td>\n      <td>The reason they don't exist is because neither...</td>\n    </tr>\n  </tbody>\n</table>\n</div>"
     },
     "execution_count": 5,
     "metadata": {},
     "output_type": "execute_result"
    }
   ],
   "source": [
    "df3 = load_dataset(\"s-nlp/paradetox\")[\"train\"].to_pandas()\n",
    "df3.head()"
   ],
   "metadata": {
    "collapsed": false,
    "ExecuteTime": {
     "end_time": "2023-11-04T17:16:12.303200300Z",
     "start_time": "2023-11-04T17:16:07.877918700Z"
    }
   },
   "id": "2fab097d4db1d604"
  },
  {
   "cell_type": "code",
   "execution_count": 6,
   "outputs": [
    {
     "name": "stdout",
     "output_type": "stream",
     "text": [
      "Total new size: 53454\n"
     ]
    }
   ],
   "source": [
    "total_new_size = len(df1) + len(df2) + len(df3)\n",
    "print(f\"Total new size: {total_new_size}\")"
   ],
   "metadata": {
    "collapsed": false,
    "ExecuteTime": {
     "end_time": "2023-11-04T17:16:12.320738700Z",
     "start_time": "2023-11-04T17:16:12.305208800Z"
    }
   },
   "id": "af5054e65f5914a8"
  },
  {
   "cell_type": "markdown",
   "source": [
    "## Let's combine all the data"
   ],
   "metadata": {
    "collapsed": false
   },
   "id": "acf2ceb2bc15a050"
  },
  {
   "cell_type": "code",
   "execution_count": 7,
   "outputs": [],
   "source": [
    "df1 = df1.rename(columns={\"toxic_comment\": \"toxic-en\", \"neutral_comment\": \"neutral-en\"})[['toxic-en', 'neutral-en']]\n",
    "df2 = df2.rename(columns={\"toxic\": \"toxic-en\", \"neutral\": \"neutral-en\"})[['toxic-en', 'neutral-en']]\n",
    "df3 = df3.rename(columns={\"en_toxic_comment\": \"toxic-en\", \"en_neutral_comment\": \"neutral-en\"})[['toxic-en', 'neutral-en']]\n"
   ],
   "metadata": {
    "collapsed": false,
    "ExecuteTime": {
     "end_time": "2023-11-04T17:16:12.338462200Z",
     "start_time": "2023-11-04T17:16:12.310348600Z"
    }
   },
   "id": "90386e90a3253c3c"
  },
  {
   "cell_type": "code",
   "execution_count": 8,
   "outputs": [],
   "source": [
    "df = pd.concat([df1, df2, df3], ignore_index=True)"
   ],
   "metadata": {
    "collapsed": false,
    "ExecuteTime": {
     "end_time": "2023-11-04T17:16:12.338462200Z",
     "start_time": "2023-11-04T17:16:12.330531200Z"
    }
   },
   "id": "13a5ce26e8172e50"
  },
  {
   "cell_type": "code",
   "execution_count": 9,
   "outputs": [
    {
     "name": "stdout",
     "output_type": "stream",
     "text": [
      "53454\n"
     ]
    },
    {
     "data": {
      "text/plain": "                                            toxic-en  \\\n0                                       Shut it off!   \n1                               Damned strange ones.   \n2  Come on. I know I was a bit of a jerk back in ...   \n3  We're about to die of hunger; we're lost; we c...   \n4  We have acknowledged that we have feelings for...   \n\n                                          neutral-en  \n0                                       turn it off!  \n1                                      pretty weird.  \n2  I know I was quite a bastard then, but I've gr...  \n3  we're lost, we can't leave this tree because t...  \n4  we knew we had feelings for each other and we ...  ",
      "text/html": "<div>\n<style scoped>\n    .dataframe tbody tr th:only-of-type {\n        vertical-align: middle;\n    }\n\n    .dataframe tbody tr th {\n        vertical-align: top;\n    }\n\n    .dataframe thead th {\n        text-align: right;\n    }\n</style>\n<table border=\"1\" class=\"dataframe\">\n  <thead>\n    <tr style=\"text-align: right;\">\n      <th></th>\n      <th>toxic-en</th>\n      <th>neutral-en</th>\n    </tr>\n  </thead>\n  <tbody>\n    <tr>\n      <th>0</th>\n      <td>Shut it off!</td>\n      <td>turn it off!</td>\n    </tr>\n    <tr>\n      <th>1</th>\n      <td>Damned strange ones.</td>\n      <td>pretty weird.</td>\n    </tr>\n    <tr>\n      <th>2</th>\n      <td>Come on. I know I was a bit of a jerk back in ...</td>\n      <td>I know I was quite a bastard then, but I've gr...</td>\n    </tr>\n    <tr>\n      <th>3</th>\n      <td>We're about to die of hunger; we're lost; we c...</td>\n      <td>we're lost, we can't leave this tree because t...</td>\n    </tr>\n    <tr>\n      <th>4</th>\n      <td>We have acknowledged that we have feelings for...</td>\n      <td>we knew we had feelings for each other and we ...</td>\n    </tr>\n  </tbody>\n</table>\n</div>"
     },
     "execution_count": 9,
     "metadata": {},
     "output_type": "execute_result"
    }
   ],
   "source": [
    "print(len(df))\n",
    "df.head()"
   ],
   "metadata": {
    "collapsed": false,
    "ExecuteTime": {
     "end_time": "2023-11-04T17:16:12.358464Z",
     "start_time": "2023-11-04T17:16:12.341463100Z"
    }
   },
   "id": "9602dafcd63c6f50"
  },
  {
   "cell_type": "code",
   "execution_count": 10,
   "outputs": [
    {
     "name": "stdout",
     "output_type": "stream",
     "text": [
      "Total combined size: 631231\n"
     ]
    }
   ],
   "source": [
    "from src.data.data_collector import add_to_combined\n",
    "\n",
    "print('Total combined size:', len(add_to_combined(df)))"
   ],
   "metadata": {
    "collapsed": false,
    "ExecuteTime": {
     "end_time": "2023-11-04T17:16:15.468076800Z",
     "start_time": "2023-11-04T17:16:12.358464Z"
    }
   },
   "id": "750b9ec24e61846b"
  }
 ],
 "metadata": {
  "kernelspec": {
   "display_name": "Python 3",
   "language": "python",
   "name": "python3"
  },
  "language_info": {
   "codemirror_mode": {
    "name": "ipython",
    "version": 2
   },
   "file_extension": ".py",
   "mimetype": "text/x-python",
   "name": "python",
   "nbconvert_exporter": "python",
   "pygments_lexer": "ipython2",
   "version": "2.7.6"
  }
 },
 "nbformat": 4,
 "nbformat_minor": 5
}
