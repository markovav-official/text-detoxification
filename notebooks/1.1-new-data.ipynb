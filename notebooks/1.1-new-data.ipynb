{
 "cells": [
  {
   "cell_type": "markdown",
   "id": "376b4018ce924d49",
   "metadata": {
    "collapsed": false
   },
   "source": [
    "# Getting new data from the web"
   ]
  },
  {
   "cell_type": "markdown",
   "id": "b5c4a8deed1b29a8",
   "metadata": {
    "collapsed": false
   },
   "source": [
    "New data sources:\n",
    "- https://huggingface.co/datasets/s-nlp/paranmt_for_detox\n",
    "- https://huggingface.co/datasets/s-nlp/en_paradetox_content\n",
    "- https://huggingface.co/datasets/s-nlp/paradetox"
   ]
  },
  {
   "cell_type": "code",
   "execution_count": 1,
   "id": "42ce693d413a12ad",
   "metadata": {
    "ExecuteTime": {
     "end_time": "2023-11-05T00:23:50.465037400Z",
     "start_time": "2023-11-05T00:23:50.462524800Z"
    },
    "collapsed": false
   },
   "outputs": [],
   "source": [
    "import sys\n",
    "sys.path.append(r\"../\")\n",
    "\n",
    "from src.data.data_collector import add_to_combined"
   ]
  },
  {
   "cell_type": "code",
   "execution_count": 2,
   "id": "initial_id",
   "metadata": {
    "ExecuteTime": {
     "end_time": "2023-11-05T00:23:51.421620700Z",
     "start_time": "2023-11-05T00:23:50.466035400Z"
    },
    "collapsed": true
   },
   "outputs": [],
   "source": [
    "import pandas as pd\n",
    "from datasets import load_dataset"
   ]
  },
  {
   "cell_type": "code",
   "execution_count": 3,
   "id": "d7be7fb123c7f852",
   "metadata": {
    "ExecuteTime": {
     "end_time": "2023-11-05T00:23:56.701972Z",
     "start_time": "2023-11-05T00:23:51.422625200Z"
    },
    "collapsed": false
   },
   "outputs": [
    {
     "data": {
      "text/html": [
       "<div>\n",
       "<style scoped>\n",
       "    .dataframe tbody tr th:only-of-type {\n",
       "        vertical-align: middle;\n",
       "    }\n",
       "\n",
       "    .dataframe tbody tr th {\n",
       "        vertical-align: top;\n",
       "    }\n",
       "\n",
       "    .dataframe thead th {\n",
       "        text-align: right;\n",
       "    }\n",
       "</style>\n",
       "<table border=\"1\" class=\"dataframe\">\n",
       "  <thead>\n",
       "    <tr style=\"text-align: right;\">\n",
       "      <th></th>\n",
       "      <th>toxic_comment</th>\n",
       "      <th>neutral_comment</th>\n",
       "    </tr>\n",
       "  </thead>\n",
       "  <tbody>\n",
       "    <tr>\n",
       "      <th>0</th>\n",
       "      <td>Shut it off!</td>\n",
       "      <td>turn it off!</td>\n",
       "    </tr>\n",
       "    <tr>\n",
       "      <th>1</th>\n",
       "      <td>Damned strange ones.</td>\n",
       "      <td>pretty weird.</td>\n",
       "    </tr>\n",
       "    <tr>\n",
       "      <th>2</th>\n",
       "      <td>Come on. I know I was a bit of a jerk back in ...</td>\n",
       "      <td>I know I was quite a bastard then, but I've gr...</td>\n",
       "    </tr>\n",
       "    <tr>\n",
       "      <th>3</th>\n",
       "      <td>We're about to die of hunger; we're lost; we c...</td>\n",
       "      <td>we're lost, we can't leave this tree because t...</td>\n",
       "    </tr>\n",
       "    <tr>\n",
       "      <th>4</th>\n",
       "      <td>We have acknowledged that we have feelings for...</td>\n",
       "      <td>we knew we had feelings for each other and we ...</td>\n",
       "    </tr>\n",
       "  </tbody>\n",
       "</table>\n",
       "</div>"
      ],
      "text/plain": [
       "                                       toxic_comment  \\\n",
       "0                                       Shut it off!   \n",
       "1                               Damned strange ones.   \n",
       "2  Come on. I know I was a bit of a jerk back in ...   \n",
       "3  We're about to die of hunger; we're lost; we c...   \n",
       "4  We have acknowledged that we have feelings for...   \n",
       "\n",
       "                                     neutral_comment  \n",
       "0                                       turn it off!  \n",
       "1                                      pretty weird.  \n",
       "2  I know I was quite a bastard then, but I've gr...  \n",
       "3  we're lost, we can't leave this tree because t...  \n",
       "4  we knew we had feelings for each other and we ...  "
      ]
     },
     "execution_count": 3,
     "metadata": {},
     "output_type": "execute_result"
    }
   ],
   "source": [
    "df1 = load_dataset(\"s-nlp/paranmt_for_detox\")[\"train\"].to_pandas()\n",
    "df1.head()"
   ]
  },
  {
   "cell_type": "code",
   "execution_count": 4,
   "id": "6d96102673053ca8",
   "metadata": {
    "ExecuteTime": {
     "end_time": "2023-11-05T00:24:01.140494800Z",
     "start_time": "2023-11-05T00:23:56.703479700Z"
    },
    "collapsed": false
   },
   "outputs": [
    {
     "data": {
      "text/html": [
       "<div>\n",
       "<style scoped>\n",
       "    .dataframe tbody tr th:only-of-type {\n",
       "        vertical-align: middle;\n",
       "    }\n",
       "\n",
       "    .dataframe tbody tr th {\n",
       "        vertical-align: top;\n",
       "    }\n",
       "\n",
       "    .dataframe thead th {\n",
       "        text-align: right;\n",
       "    }\n",
       "</style>\n",
       "<table border=\"1\" class=\"dataframe\">\n",
       "  <thead>\n",
       "    <tr style=\"text-align: right;\">\n",
       "      <th></th>\n",
       "      <th>neutral</th>\n",
       "      <th>toxic</th>\n",
       "      <th>match</th>\n",
       "    </tr>\n",
       "  </thead>\n",
       "  <tbody>\n",
       "    <tr>\n",
       "      <th>0</th>\n",
       "      <td>so sad the voters in her district are stupid e...</td>\n",
       "      <td>so sad the voters in her district are stupid e...</td>\n",
       "      <td>True</td>\n",
       "    </tr>\n",
       "    <tr>\n",
       "      <th>1</th>\n",
       "      <td>Trump is indifferent and not into his senses.</td>\n",
       "      <td>trump is a liar and a psychotic .</td>\n",
       "      <td>True</td>\n",
       "    </tr>\n",
       "    <tr>\n",
       "      <th>2</th>\n",
       "      <td>professors who sit in an old buildings dreamin...</td>\n",
       "      <td>professors who sit in stinky old buildings dre...</td>\n",
       "      <td>True</td>\n",
       "    </tr>\n",
       "    <tr>\n",
       "      <th>3</th>\n",
       "      <td>But you will vote for a wife of a friend</td>\n",
       "      <td>but youll vote for the wife of a rapistsex fie...</td>\n",
       "      <td>False</td>\n",
       "    </tr>\n",
       "    <tr>\n",
       "      <th>4</th>\n",
       "      <td>i hope i live long enough to see at least thes...</td>\n",
       "      <td>i hope i live long enough to see at least thes...</td>\n",
       "      <td>True</td>\n",
       "    </tr>\n",
       "  </tbody>\n",
       "</table>\n",
       "</div>"
      ],
      "text/plain": [
       "                                             neutral  \\\n",
       "0  so sad the voters in her district are stupid e...   \n",
       "1      Trump is indifferent and not into his senses.   \n",
       "2  professors who sit in an old buildings dreamin...   \n",
       "3           But you will vote for a wife of a friend   \n",
       "4  i hope i live long enough to see at least thes...   \n",
       "\n",
       "                                               toxic  match  \n",
       "0  so sad the voters in her district are stupid e...   True  \n",
       "1                  trump is a liar and a psychotic .   True  \n",
       "2  professors who sit in stinky old buildings dre...   True  \n",
       "3  but youll vote for the wife of a rapistsex fie...  False  \n",
       "4  i hope i live long enough to see at least thes...   True  "
      ]
     },
     "execution_count": 4,
     "metadata": {},
     "output_type": "execute_result"
    }
   ],
   "source": [
    "df2 = load_dataset(\"s-nlp/en_paradetox_content\")[\"train\"].to_pandas()\n",
    "df2.head()"
   ]
  },
  {
   "cell_type": "code",
   "execution_count": 5,
   "id": "2fab097d4db1d604",
   "metadata": {
    "ExecuteTime": {
     "end_time": "2023-11-05T00:24:06.064327600Z",
     "start_time": "2023-11-05T00:24:01.140494800Z"
    },
    "collapsed": false
   },
   "outputs": [
    {
     "data": {
      "text/html": [
       "<div>\n",
       "<style scoped>\n",
       "    .dataframe tbody tr th:only-of-type {\n",
       "        vertical-align: middle;\n",
       "    }\n",
       "\n",
       "    .dataframe tbody tr th {\n",
       "        vertical-align: top;\n",
       "    }\n",
       "\n",
       "    .dataframe thead th {\n",
       "        text-align: right;\n",
       "    }\n",
       "</style>\n",
       "<table border=\"1\" class=\"dataframe\">\n",
       "  <thead>\n",
       "    <tr style=\"text-align: right;\">\n",
       "      <th></th>\n",
       "      <th>en_toxic_comment</th>\n",
       "      <th>en_neutral_comment</th>\n",
       "    </tr>\n",
       "  </thead>\n",
       "  <tbody>\n",
       "    <tr>\n",
       "      <th>0</th>\n",
       "      <td>he had steel balls too !</td>\n",
       "      <td>he was brave too!</td>\n",
       "    </tr>\n",
       "    <tr>\n",
       "      <th>1</th>\n",
       "      <td>dude should have been taken to api , he would ...</td>\n",
       "      <td>It would have been good if he went to api. He ...</td>\n",
       "    </tr>\n",
       "    <tr>\n",
       "      <th>2</th>\n",
       "      <td>im not gonna sell the fucking picture , i just...</td>\n",
       "      <td>I'm not gonna sell the picture, i just want to...</td>\n",
       "    </tr>\n",
       "    <tr>\n",
       "      <th>3</th>\n",
       "      <td>the garbage that is being created by cnn and o...</td>\n",
       "      <td>the news that is being created by cnn and othe...</td>\n",
       "    </tr>\n",
       "    <tr>\n",
       "      <th>4</th>\n",
       "      <td>the reason they dont exist is because neither ...</td>\n",
       "      <td>The reason they don't exist is because neither...</td>\n",
       "    </tr>\n",
       "  </tbody>\n",
       "</table>\n",
       "</div>"
      ],
      "text/plain": [
       "                                    en_toxic_comment  \\\n",
       "0                           he had steel balls too !   \n",
       "1  dude should have been taken to api , he would ...   \n",
       "2  im not gonna sell the fucking picture , i just...   \n",
       "3  the garbage that is being created by cnn and o...   \n",
       "4  the reason they dont exist is because neither ...   \n",
       "\n",
       "                                  en_neutral_comment  \n",
       "0                                  he was brave too!  \n",
       "1  It would have been good if he went to api. He ...  \n",
       "2  I'm not gonna sell the picture, i just want to...  \n",
       "3  the news that is being created by cnn and othe...  \n",
       "4  The reason they don't exist is because neither...  "
      ]
     },
     "execution_count": 5,
     "metadata": {},
     "output_type": "execute_result"
    }
   ],
   "source": [
    "df3 = load_dataset(\"s-nlp/paradetox\")[\"train\"].to_pandas()\n",
    "df3.head()"
   ]
  },
  {
   "cell_type": "code",
   "execution_count": 6,
   "id": "af5054e65f5914a8",
   "metadata": {
    "ExecuteTime": {
     "end_time": "2023-11-05T00:24:06.073017500Z",
     "start_time": "2023-11-05T00:24:06.065331500Z"
    },
    "collapsed": false
   },
   "outputs": [
    {
     "name": "stdout",
     "output_type": "stream",
     "text": [
      "Total new size: 53454\n"
     ]
    }
   ],
   "source": [
    "total_new_size = len(df1) + len(df2) + len(df3)\n",
    "print(f\"Total new size: {total_new_size}\")"
   ]
  },
  {
   "cell_type": "markdown",
   "id": "acf2ceb2bc15a050",
   "metadata": {
    "collapsed": false
   },
   "source": [
    "## Let's combine all the data"
   ]
  },
  {
   "cell_type": "code",
   "execution_count": 7,
   "id": "90386e90a3253c3c",
   "metadata": {
    "ExecuteTime": {
     "end_time": "2023-11-05T00:24:06.082562200Z",
     "start_time": "2023-11-05T00:24:06.070021400Z"
    },
    "collapsed": false
   },
   "outputs": [],
   "source": [
    "df1 = df1.rename(columns={\"toxic_comment\": \"toxic-en\", \"neutral_comment\": \"neutral-en\"})[['toxic-en', 'neutral-en']]\n",
    "df2 = df2.rename(columns={\"toxic\": \"toxic-en\", \"neutral\": \"neutral-en\"})[['toxic-en', 'neutral-en']]\n",
    "df3 = df3.rename(columns={\"en_toxic_comment\": \"toxic-en\", \"en_neutral_comment\": \"neutral-en\"})[['toxic-en', 'neutral-en']]\n"
   ]
  },
  {
   "cell_type": "code",
   "execution_count": 8,
   "id": "13a5ce26e8172e50",
   "metadata": {
    "ExecuteTime": {
     "end_time": "2023-11-05T00:24:06.091082300Z",
     "start_time": "2023-11-05T00:24:06.083562500Z"
    },
    "collapsed": false
   },
   "outputs": [],
   "source": [
    "df = pd.concat([df1, df2, df3], ignore_index=True)"
   ]
  },
  {
   "cell_type": "code",
   "execution_count": 9,
   "id": "9602dafcd63c6f50",
   "metadata": {
    "ExecuteTime": {
     "end_time": "2023-11-05T00:24:06.140037400Z",
     "start_time": "2023-11-05T00:24:06.090082600Z"
    },
    "collapsed": false
   },
   "outputs": [
    {
     "name": "stdout",
     "output_type": "stream",
     "text": [
      "53454\n"
     ]
    },
    {
     "data": {
      "text/html": [
       "<div>\n",
       "<style scoped>\n",
       "    .dataframe tbody tr th:only-of-type {\n",
       "        vertical-align: middle;\n",
       "    }\n",
       "\n",
       "    .dataframe tbody tr th {\n",
       "        vertical-align: top;\n",
       "    }\n",
       "\n",
       "    .dataframe thead th {\n",
       "        text-align: right;\n",
       "    }\n",
       "</style>\n",
       "<table border=\"1\" class=\"dataframe\">\n",
       "  <thead>\n",
       "    <tr style=\"text-align: right;\">\n",
       "      <th></th>\n",
       "      <th>toxic-en</th>\n",
       "      <th>neutral-en</th>\n",
       "    </tr>\n",
       "  </thead>\n",
       "  <tbody>\n",
       "    <tr>\n",
       "      <th>0</th>\n",
       "      <td>Shut it off!</td>\n",
       "      <td>turn it off!</td>\n",
       "    </tr>\n",
       "    <tr>\n",
       "      <th>1</th>\n",
       "      <td>Damned strange ones.</td>\n",
       "      <td>pretty weird.</td>\n",
       "    </tr>\n",
       "    <tr>\n",
       "      <th>2</th>\n",
       "      <td>Come on. I know I was a bit of a jerk back in ...</td>\n",
       "      <td>I know I was quite a bastard then, but I've gr...</td>\n",
       "    </tr>\n",
       "    <tr>\n",
       "      <th>3</th>\n",
       "      <td>We're about to die of hunger; we're lost; we c...</td>\n",
       "      <td>we're lost, we can't leave this tree because t...</td>\n",
       "    </tr>\n",
       "    <tr>\n",
       "      <th>4</th>\n",
       "      <td>We have acknowledged that we have feelings for...</td>\n",
       "      <td>we knew we had feelings for each other and we ...</td>\n",
       "    </tr>\n",
       "  </tbody>\n",
       "</table>\n",
       "</div>"
      ],
      "text/plain": [
       "                                            toxic-en  \\\n",
       "0                                       Shut it off!   \n",
       "1                               Damned strange ones.   \n",
       "2  Come on. I know I was a bit of a jerk back in ...   \n",
       "3  We're about to die of hunger; we're lost; we c...   \n",
       "4  We have acknowledged that we have feelings for...   \n",
       "\n",
       "                                          neutral-en  \n",
       "0                                       turn it off!  \n",
       "1                                      pretty weird.  \n",
       "2  I know I was quite a bastard then, but I've gr...  \n",
       "3  we're lost, we can't leave this tree because t...  \n",
       "4  we knew we had feelings for each other and we ...  "
      ]
     },
     "execution_count": 9,
     "metadata": {},
     "output_type": "execute_result"
    }
   ],
   "source": [
    "print(len(df))\n",
    "df.head()"
   ]
  },
  {
   "cell_type": "code",
   "execution_count": 10,
   "id": "750b9ec24e61846b",
   "metadata": {
    "ExecuteTime": {
     "end_time": "2023-11-05T00:24:09.081472200Z",
     "start_time": "2023-11-05T00:24:06.098524700Z"
    },
    "collapsed": false
   },
   "outputs": [
    {
     "name": "stdout",
     "output_type": "stream",
     "text": [
      "Total combined size: 631231\n"
     ]
    }
   ],
   "source": [
    "print('Total combined size:', len(add_to_combined(df)))"
   ]
  }
 ],
 "metadata": {
  "kernelspec": {
   "display_name": "Python 3",
   "language": "python",
   "name": "python3"
  },
  "language_info": {
   "codemirror_mode": {
    "name": "ipython",
    "version": 2
   },
   "file_extension": ".py",
   "mimetype": "text/x-python",
   "name": "python",
   "nbconvert_exporter": "python",
   "pygments_lexer": "ipython2",
   "version": "2.7.6"
  }
 },
 "nbformat": 4,
 "nbformat_minor": 5
}
