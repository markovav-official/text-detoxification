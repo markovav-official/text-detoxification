{
 "cells": [
  {
   "cell_type": "markdown",
   "metadata": {
    "id": "rEJBSTyZIrIb"
   },
   "source": [
    "# T5-small model finetuning"
   ]
  },
  {
   "cell_type": "code",
   "execution_count": 1,
   "metadata": {
    "ExecuteTime": {
     "end_time": "2023-11-05T00:27:09.680588Z",
     "start_time": "2023-11-05T00:27:09.617058Z"
    },
    "collapsed": false
   },
   "outputs": [],
   "source": [
    "# If you don't have pytorch, you should install it using the command that you can get on \n",
    "# https://pytorch.org/get-started/locally/\n",
    "# Example: pip install torch torchvision torchaudio --index-url https://download.pytorch.org/whl/cu121"
   ]
  },
  {
   "cell_type": "code",
   "execution_count": 1,
   "metadata": {
    "ExecuteTime": {
     "end_time": "2023-11-05T00:27:15.778166300Z",
     "start_time": "2023-11-05T00:27:09.620070Z"
    },
    "execution": {
     "iopub.execute_input": "2023-09-24T15:10:01.766013Z",
     "iopub.status.busy": "2023-09-24T15:10:01.765366Z",
     "iopub.status.idle": "2023-09-24T15:10:01.772400Z",
     "shell.execute_reply": "2023-09-24T15:10:01.771384Z",
     "shell.execute_reply.started": "2023-09-24T15:10:01.765977Z"
    },
    "trusted": true
   },
   "outputs": [],
   "source": [
    "import warnings\n",
    "\n",
    "import numpy as np\n",
    "import pandas as pd\n",
    "import transformers\n",
    "from datasets import load_metric\n",
    "from transformers import AutoTokenizer, AutoModelForSeq2SeqLM, DataCollatorForSeq2Seq, Seq2SeqTrainingArguments, \\\n",
    "    Seq2SeqTrainer\n",
    "\n",
    "warnings.filterwarnings('ignore')\n",
    "transformers.set_seed(42)"
   ]
  },
  {
   "cell_type": "code",
   "execution_count": 2,
   "metadata": {
    "ExecuteTime": {
     "end_time": "2023-11-05T00:27:17.148949600Z",
     "start_time": "2023-11-05T00:27:15.780168400Z"
    },
    "collapsed": false
   },
   "outputs": [
    {
     "data": {
      "text/html": [
       "<div>\n",
       "<style scoped>\n",
       "    .dataframe tbody tr th:only-of-type {\n",
       "        vertical-align: middle;\n",
       "    }\n",
       "\n",
       "    .dataframe tbody tr th {\n",
       "        vertical-align: top;\n",
       "    }\n",
       "\n",
       "    .dataframe thead th {\n",
       "        text-align: right;\n",
       "    }\n",
       "</style>\n",
       "<table border=\"1\" class=\"dataframe\">\n",
       "  <thead>\n",
       "    <tr style=\"text-align: right;\">\n",
       "      <th></th>\n",
       "      <th>toxic-en</th>\n",
       "      <th>neutral-en</th>\n",
       "    </tr>\n",
       "  </thead>\n",
       "  <tbody>\n",
       "    <tr>\n",
       "      <th>0</th>\n",
       "      <td>if Alkar floods her with her mental waste, it ...</td>\n",
       "      <td>If Alkar is flooding her with psychic waste, t...</td>\n",
       "    </tr>\n",
       "    <tr>\n",
       "      <th>1</th>\n",
       "      <td>you're becoming disgusting.</td>\n",
       "      <td>Now you're getting nasty.</td>\n",
       "    </tr>\n",
       "    <tr>\n",
       "      <th>2</th>\n",
       "      <td>well, we can spare your life.</td>\n",
       "      <td>Well, we could spare your life, for one.</td>\n",
       "    </tr>\n",
       "    <tr>\n",
       "      <th>3</th>\n",
       "      <td>monkey, you have to wake up.</td>\n",
       "      <td>Ah! Monkey, you've got to snap out of it.</td>\n",
       "    </tr>\n",
       "    <tr>\n",
       "      <th>4</th>\n",
       "      <td>I have orders to kill her.</td>\n",
       "      <td>I've got orders to put her down.</td>\n",
       "    </tr>\n",
       "  </tbody>\n",
       "</table>\n",
       "</div>"
      ],
      "text/plain": [
       "                                            toxic-en  \\\n",
       "0  if Alkar floods her with her mental waste, it ...   \n",
       "1                        you're becoming disgusting.   \n",
       "2                      well, we can spare your life.   \n",
       "3                       monkey, you have to wake up.   \n",
       "4                         I have orders to kill her.   \n",
       "\n",
       "                                          neutral-en  \n",
       "0  If Alkar is flooding her with psychic waste, t...  \n",
       "1                          Now you're getting nasty.  \n",
       "2           Well, we could spare your life, for one.  \n",
       "3          Ah! Monkey, you've got to snap out of it.  \n",
       "4                   I've got orders to put her down.  "
      ]
     },
     "execution_count": 2,
     "metadata": {},
     "output_type": "execute_result"
    }
   ],
   "source": [
    "df = pd.read_csv('../data/interim/combined.tsv', sep='\\t', header=0)\n",
    "df.head()"
   ]
  },
  {
   "cell_type": "code",
   "execution_count": 3,
   "metadata": {
    "ExecuteTime": {
     "end_time": "2023-11-05T00:27:17.377042100Z",
     "start_time": "2023-11-05T00:27:17.150951400Z"
    },
    "collapsed": false
   },
   "outputs": [],
   "source": [
    "train_ratio = 0.8\n",
    "val_ratio = 0.1\n",
    "test_ratio = 0.1\n",
    "\n",
    "train_data = df.sample(frac=train_ratio, random_state=42)\n",
    "val_data = df.drop(train_data.index).sample(frac=val_ratio / (val_ratio + test_ratio), random_state=42)\n",
    "test_data = df.drop(train_data.index).drop(val_data.index)"
   ]
  },
  {
   "cell_type": "code",
   "execution_count": 4,
   "metadata": {
    "ExecuteTime": {
     "end_time": "2023-11-05T00:27:17.378083600Z",
     "start_time": "2023-11-05T00:27:17.355950700Z"
    },
    "collapsed": false
   },
   "outputs": [],
   "source": [
    "from datasets import Dataset\n",
    "\n",
    "\n",
    "def create_dataset(df: pd.DataFrame):\n",
    "    return Dataset.from_dict(\n",
    "        {\n",
    "            \"translation\": [\n",
    "                {\"toxic-en\": ref, \"neutral-en\": tr}\n",
    "                for ref, tr, in zip(df[\"toxic-en\"], df[\"neutral-en\"])\n",
    "            ]\n",
    "        }\n",
    "    )"
   ]
  },
  {
   "cell_type": "code",
   "execution_count": 5,
   "metadata": {
    "ExecuteTime": {
     "end_time": "2023-11-05T00:27:19.168148600Z",
     "start_time": "2023-11-05T00:27:17.357959400Z"
    },
    "execution": {
     "iopub.execute_input": "2023-09-24T15:10:01.787917Z",
     "iopub.status.busy": "2023-09-24T15:10:01.787594Z",
     "iopub.status.idle": "2023-09-24T15:10:03.219266Z",
     "shell.execute_reply": "2023-09-24T15:10:03.218277Z",
     "shell.execute_reply.started": "2023-09-24T15:10:01.787893Z"
    },
    "id": "IreSlFmlIrIm",
    "trusted": true
   },
   "outputs": [
    {
     "data": {
      "text/plain": [
       "DatasetDict({\n",
       "    train: Dataset({\n",
       "        features: ['translation'],\n",
       "        num_rows: 504985\n",
       "    })\n",
       "    validation: Dataset({\n",
       "        features: ['translation'],\n",
       "        num_rows: 63123\n",
       "    })\n",
       "    test: Dataset({\n",
       "        features: ['translation'],\n",
       "        num_rows: 63123\n",
       "    })\n",
       "})"
      ]
     },
     "execution_count": 5,
     "metadata": {},
     "output_type": "execute_result"
    }
   ],
   "source": [
    "from datasets import DatasetDict\n",
    "\n",
    "raw_datasets = DatasetDict(\n",
    "    train=create_dataset(train_data),\n",
    "    validation=create_dataset(val_data),\n",
    "    test=create_dataset(test_data)\n",
    ")\n",
    "raw_datasets"
   ]
  },
  {
   "cell_type": "code",
   "execution_count": 7,
   "metadata": {
    "ExecuteTime": {
     "end_time": "2023-11-05T00:27:19.176835500Z",
     "start_time": "2023-11-05T00:27:19.169321400Z"
    },
    "execution": {
     "iopub.execute_input": "2023-09-24T15:38:54.393583Z",
     "iopub.status.busy": "2023-09-24T15:38:54.393131Z",
     "iopub.status.idle": "2023-09-24T15:38:54.403154Z",
     "shell.execute_reply": "2023-09-24T15:38:54.401952Z",
     "shell.execute_reply.started": "2023-09-24T15:38:54.393549Z"
    },
    "id": "5o4rUteaIrI_",
    "outputId": "18038ef5-554c-45c5-e00a-133b02ec10f1",
    "trusted": true
   },
   "outputs": [],
   "source": [
    "model_checkpoint = \"t5-small\"\n",
    "prefix = \"paraphrase:\"\n",
    "max_input_length = 128\n",
    "max_target_length = 128\n",
    "source_lang = \"toxic-en\"\n",
    "target_lang = \"neutral-en\"\n",
    "\n",
    "out_dir = f\"../models/{model_checkpoint.replace('/', '-')}-finetuned-{source_lang}-to-{target_lang}\""
   ]
  },
  {
   "cell_type": "code",
   "execution_count": 8,
   "metadata": {
    "ExecuteTime": {
     "end_time": "2023-11-05T00:27:22.505834800Z",
     "start_time": "2023-11-05T00:27:19.172842800Z"
    },
    "collapsed": false
   },
   "outputs": [],
   "source": [
    "model = AutoModelForSeq2SeqLM.from_pretrained(model_checkpoint, use_safetensors=True)\n",
    "tokenizer = AutoTokenizer.from_pretrained(model_checkpoint)\n",
    "data_collator = DataCollatorForSeq2Seq(tokenizer, model=model)\n",
    "metric = load_metric(\"sacrebleu\")"
   ]
  },
  {
   "cell_type": "code",
   "execution_count": 9,
   "metadata": {
    "ExecuteTime": {
     "end_time": "2023-11-05T00:27:22.516238300Z",
     "start_time": "2023-11-05T00:27:22.505834800Z"
    },
    "execution": {
     "iopub.execute_input": "2023-09-24T15:10:03.541473Z",
     "iopub.status.busy": "2023-09-24T15:10:03.540621Z",
     "iopub.status.idle": "2023-09-24T15:10:03.549770Z",
     "shell.execute_reply": "2023-09-24T15:10:03.548874Z",
     "shell.execute_reply.started": "2023-09-24T15:10:03.541440Z"
    },
    "id": "vc0BSBLIIrJQ",
    "trusted": true
   },
   "outputs": [],
   "source": [
    "def preprocess_function(examples):\n",
    "    inputs = [prefix + ex[source_lang] for ex in examples[\"translation\"]]\n",
    "    targets = [ex[target_lang] for ex in examples[\"translation\"]]\n",
    "    model_inputs = tokenizer(inputs, max_length=max_input_length, truncation=True)\n",
    "    labels = tokenizer(targets, max_length=max_target_length, truncation=True)\n",
    "\n",
    "    model_inputs[\"labels\"] = labels[\"input_ids\"]\n",
    "    return model_inputs"
   ]
  },
  {
   "cell_type": "code",
   "execution_count": 10,
   "metadata": {
    "ExecuteTime": {
     "end_time": "2023-11-05T00:27:55.421362900Z",
     "start_time": "2023-11-05T00:27:22.511239300Z"
    },
    "execution": {
     "iopub.execute_input": "2023-09-24T16:09:35.662567Z",
     "iopub.status.busy": "2023-09-24T16:09:35.662099Z",
     "iopub.status.idle": "2023-09-24T16:09:37.545512Z",
     "shell.execute_reply": "2023-09-24T16:09:37.544516Z",
     "shell.execute_reply.started": "2023-09-24T16:09:35.662533Z"
    },
    "id": "DDtsaJeVIrJT",
    "outputId": "aa4734bf-4ef5-4437-9948-2c16363da719",
    "trusted": true
   },
   "outputs": [
    {
     "data": {
      "application/vnd.jupyter.widget-view+json": {
       "model_id": "0184f21727e94f8a8c61d376bb0e64be",
       "version_major": 2,
       "version_minor": 0
      },
      "text/plain": [
       "Map:   0%|          | 0/504985 [00:00<?, ? examples/s]"
      ]
     },
     "metadata": {},
     "output_type": "display_data"
    },
    {
     "data": {
      "application/vnd.jupyter.widget-view+json": {
       "model_id": "ee53d0c9c756444abc5ea5dd04ad4ebd",
       "version_major": 2,
       "version_minor": 0
      },
      "text/plain": [
       "Map:   0%|          | 0/63123 [00:00<?, ? examples/s]"
      ]
     },
     "metadata": {},
     "output_type": "display_data"
    },
    {
     "data": {
      "application/vnd.jupyter.widget-view+json": {
       "model_id": "dddc70451b0b40bd8881dddb93f8d6fd",
       "version_major": 2,
       "version_minor": 0
      },
      "text/plain": [
       "Map:   0%|          | 0/63123 [00:00<?, ? examples/s]"
      ]
     },
     "metadata": {},
     "output_type": "display_data"
    }
   ],
   "source": [
    "tokenized_datasets = raw_datasets.map(preprocess_function, batched=True)"
   ]
  },
  {
   "cell_type": "markdown",
   "metadata": {
    "id": "545PP3o8IrJV"
   },
   "source": [
    "## Fine-tuning the model"
   ]
  },
  {
   "cell_type": "code",
   "execution_count": 8,
   "metadata": {
    "ExecuteTime": {
     "end_time": "2023-11-05T00:27:55.433653400Z",
     "start_time": "2023-11-05T00:27:55.424578800Z"
    },
    "execution": {
     "iopub.execute_input": "2023-09-24T15:10:04.674163Z",
     "iopub.status.busy": "2023-09-24T15:10:04.673474Z",
     "iopub.status.idle": "2023-09-24T15:10:04.681771Z",
     "shell.execute_reply": "2023-09-24T15:10:04.680562Z",
     "shell.execute_reply.started": "2023-09-24T15:10:04.674126Z"
    },
    "id": "Bliy8zgjIrJY",
    "trusted": true
   },
   "outputs": [],
   "source": [
    "batch_size = 32\n",
    "train_args = Seq2SeqTrainingArguments(\n",
    "    output_dir=out_dir,\n",
    "    save_total_limit=3,\n",
    "    evaluation_strategy=\"epoch\",\n",
    "    per_device_train_batch_size=batch_size,\n",
    "    per_device_eval_batch_size=batch_size,\n",
    "    learning_rate=1e-4,\n",
    "    weight_decay=0.01,\n",
    "    num_train_epochs=3,\n",
    "    predict_with_generate=True,\n",
    "    fp16=True,\n",
    "    report_to=['tensorboard'],\n",
    "    disable_tqdm=False,\n",
    ")"
   ]
  },
  {
   "cell_type": "code",
   "execution_count": 9,
   "metadata": {
    "ExecuteTime": {
     "end_time": "2023-11-05T00:27:55.446225400Z",
     "start_time": "2023-11-05T00:27:55.433653400Z"
    },
    "execution": {
     "iopub.execute_input": "2023-09-24T15:10:04.695838Z",
     "iopub.status.busy": "2023-09-24T15:10:04.695457Z",
     "iopub.status.idle": "2023-09-24T15:10:04.707222Z",
     "shell.execute_reply": "2023-09-24T15:10:04.706315Z",
     "shell.execute_reply.started": "2023-09-24T15:10:04.695806Z"
    },
    "id": "UmvbnJ9JIrJd",
    "trusted": true
   },
   "outputs": [],
   "source": [
    "def postprocess_text(preds, labels):\n",
    "    preds = [pred.strip() for pred in preds]\n",
    "    labels = [[label.strip()] for label in labels]\n",
    "\n",
    "    return preds, labels\n",
    "\n",
    "\n",
    "def compute_metrics(eval_preds):\n",
    "    preds, labels = eval_preds\n",
    "    if isinstance(preds, tuple):\n",
    "        preds = preds[0]\n",
    "    decoded_preds = tokenizer.batch_decode(preds, skip_special_tokens=True)\n",
    "\n",
    "    # Replace -100 in the labels as we can't decode them.\n",
    "    labels = np.where(labels != -100, labels, tokenizer.pad_token_id)\n",
    "    decoded_labels = tokenizer.batch_decode(labels, skip_special_tokens=True)\n",
    "\n",
    "    # Some simple post-processing\n",
    "    decoded_preds, decoded_labels = postprocess_text(decoded_preds, decoded_labels)\n",
    "\n",
    "    result = metric.compute(predictions=decoded_preds, references=decoded_labels)\n",
    "    result = {\"bleu\": result[\"score\"]}\n",
    "\n",
    "    prediction_lens = [np.count_nonzero(pred != tokenizer.pad_token_id) for pred in preds]\n",
    "    result[\"gen_len\"] = np.mean(prediction_lens)\n",
    "    result = {k: round(v, 4) for k, v in result.items()}\n",
    "    return result"
   ]
  },
  {
   "cell_type": "code",
   "execution_count": 13,
   "metadata": {
    "ExecuteTime": {
     "end_time": "2023-11-05T00:27:55.888900100Z",
     "start_time": "2023-11-05T00:27:55.441254600Z"
    },
    "execution": {
     "iopub.execute_input": "2023-09-24T15:10:04.709249Z",
     "iopub.status.busy": "2023-09-24T15:10:04.708526Z",
     "iopub.status.idle": "2023-09-24T15:10:04.806768Z",
     "shell.execute_reply": "2023-09-24T15:10:04.805816Z",
     "shell.execute_reply.started": "2023-09-24T15:10:04.709216Z"
    },
    "id": "imY1oC3SIrJf",
    "trusted": true
   },
   "outputs": [],
   "source": [
    "trainer = Seq2SeqTrainer(\n",
    "    model,\n",
    "    train_args,\n",
    "    train_dataset=tokenized_datasets[\"train\"],\n",
    "    eval_dataset=tokenized_datasets[\"validation\"],\n",
    "    data_collator=data_collator,\n",
    "    tokenizer=tokenizer,\n",
    "    compute_metrics=compute_metrics,\n",
    ")"
   ]
  },
  {
   "cell_type": "code",
   "execution_count": 14,
   "metadata": {
    "ExecuteTime": {
     "end_time": "2023-11-05T00:28:08.250147800Z",
     "start_time": "2023-11-05T00:27:55.890894600Z"
    },
    "execution": {
     "iopub.execute_input": "2023-09-24T15:10:04.808506Z",
     "iopub.status.busy": "2023-09-24T15:10:04.808050Z",
     "iopub.status.idle": "2023-09-24T15:18:44.110261Z",
     "shell.execute_reply": "2023-09-24T15:18:44.109150Z",
     "shell.execute_reply.started": "2023-09-24T15:10:04.808459Z"
    },
    "id": "uNx5pyRlIrJh",
    "outputId": "077e661e-d36c-469b-89b8-7ff7f73541ec",
    "trusted": true
   },
   "outputs": [
    {
     "data": {
      "application/vnd.jupyter.widget-view+json": {
       "model_id": "0c4f1593fe5343348419382d6989c46b",
       "version_major": 2,
       "version_minor": 0
      },
      "text/plain": [
       "  0%|          | 0/47343 [00:00<?, ?it/s]"
      ]
     },
     "metadata": {},
     "output_type": "display_data"
    },
    {
     "name": "stderr",
     "output_type": "stream",
     "text": [
      "You're using a T5TokenizerFast tokenizer. Please note that with a fast tokenizer, using the `__call__` method is faster than using a method to encode the text followed by a call to the `pad` method to get a padded encoding.\n"
     ]
    },
    {
     "name": "stdout",
     "output_type": "stream",
     "text": [
      "{'loss': 2.2192, 'learning_rate': 9.894598990347043e-05, 'epoch': 0.03}\n",
      "{'loss': 2.0449, 'learning_rate': 9.788986756225841e-05, 'epoch': 0.06}\n",
      "{'loss': 2.0169, 'learning_rate': 9.683374522104641e-05, 'epoch': 0.1}\n",
      "{'loss': 1.969, 'learning_rate': 9.577762287983441e-05, 'epoch': 0.13}\n",
      "{'loss': 1.9762, 'learning_rate': 9.47215005386224e-05, 'epoch': 0.16}\n",
      "{'loss': 1.9564, 'learning_rate': 9.366749044209282e-05, 'epoch': 0.19}\n",
      "{'loss': 1.937, 'learning_rate': 9.261136810088082e-05, 'epoch': 0.22}\n",
      "{'loss': 1.9188, 'learning_rate': 9.15552457596688e-05, 'epoch': 0.25}\n",
      "{'loss': 1.9095, 'learning_rate': 9.04991234184568e-05, 'epoch': 0.29}\n",
      "{'loss': 1.901, 'learning_rate': 8.94430010772448e-05, 'epoch': 0.32}\n",
      "{'loss': 1.8929, 'learning_rate': 8.838687873603278e-05, 'epoch': 0.35}\n",
      "{'loss': 1.8925, 'learning_rate': 8.733075639482078e-05, 'epoch': 0.38}\n",
      "{'loss': 1.8788, 'learning_rate': 8.627463405360878e-05, 'epoch': 0.41}\n",
      "{'loss': 1.8793, 'learning_rate': 8.522062395707919e-05, 'epoch': 0.44}\n",
      "{'loss': 1.8635, 'learning_rate': 8.416450161586719e-05, 'epoch': 0.48}\n",
      "{'loss': 1.882, 'learning_rate': 8.310837927465518e-05, 'epoch': 0.51}\n",
      "{'loss': 1.8659, 'learning_rate': 8.20543691781256e-05, 'epoch': 0.54}\n",
      "{'loss': 1.863, 'learning_rate': 8.099824683691359e-05, 'epoch': 0.57}\n",
      "{'loss': 1.8643, 'learning_rate': 7.994212449570159e-05, 'epoch': 0.6}\n",
      "{'loss': 1.8508, 'learning_rate': 7.888600215448958e-05, 'epoch': 0.63}\n",
      "{'loss': 1.8432, 'learning_rate': 7.782987981327757e-05, 'epoch': 0.67}\n",
      "{'loss': 1.8349, 'learning_rate': 7.677375747206557e-05, 'epoch': 0.7}\n",
      "{'loss': 1.8417, 'learning_rate': 7.571763513085356e-05, 'epoch': 0.73}\n",
      "{'loss': 1.8317, 'learning_rate': 7.466151278964156e-05, 'epoch': 0.76}\n",
      "{'loss': 1.8377, 'learning_rate': 7.360750269311198e-05, 'epoch': 0.79}\n",
      "{'loss': 1.8311, 'learning_rate': 7.255138035189996e-05, 'epoch': 0.82}\n",
      "{'loss': 1.8255, 'learning_rate': 7.149525801068796e-05, 'epoch': 0.86}\n",
      "{'loss': 1.8062, 'learning_rate': 7.043913566947596e-05, 'epoch': 0.89}\n",
      "{'loss': 1.8224, 'learning_rate': 6.938301332826394e-05, 'epoch': 0.92}\n",
      "{'loss': 1.8477, 'learning_rate': 6.832689098705194e-05, 'epoch': 0.95}\n",
      "{'loss': 1.8235, 'learning_rate': 6.727288089052237e-05, 'epoch': 0.98}\n"
     ]
    },
    {
     "data": {
      "application/vnd.jupyter.widget-view+json": {
       "model_id": "d2dd9562d684442180cb25058684e238",
       "version_major": 2,
       "version_minor": 0
      },
      "text/plain": [
       "  0%|          | 0/1973 [00:00<?, ?it/s]"
      ]
     },
     "metadata": {},
     "output_type": "display_data"
    },
    {
     "name": "stdout",
     "output_type": "stream",
     "text": [
      "{'eval_loss': 1.6821682453155518, 'eval_bleu': 25.4631, 'eval_gen_len': 13.2798, 'eval_runtime': 747.6179, 'eval_samples_per_second': 84.432, 'eval_steps_per_second': 2.639, 'epoch': 1.0}\n",
      "{'loss': 1.8111, 'learning_rate': 6.621675854931035e-05, 'epoch': 1.01}\n",
      "{'loss': 1.7867, 'learning_rate': 6.516063620809835e-05, 'epoch': 1.05}\n",
      "{'loss': 1.7855, 'learning_rate': 6.410451386688633e-05, 'epoch': 1.08}\n",
      "{'loss': 1.796, 'learning_rate': 6.304839152567433e-05, 'epoch': 1.11}\n",
      "{'loss': 1.7897, 'learning_rate': 6.199226918446233e-05, 'epoch': 1.14}\n",
      "{'loss': 1.7808, 'learning_rate': 6.093614684325033e-05, 'epoch': 1.17}\n",
      "{'loss': 1.7904, 'learning_rate': 5.988002450203832e-05, 'epoch': 1.2}\n",
      "{'loss': 1.7815, 'learning_rate': 5.882601440550874e-05, 'epoch': 1.24}\n",
      "{'loss': 1.7708, 'learning_rate': 5.777200430897915e-05, 'epoch': 1.27}\n",
      "{'loss': 1.7781, 'learning_rate': 5.671588196776715e-05, 'epoch': 1.3}\n",
      "{'loss': 1.7776, 'learning_rate': 5.565975962655514e-05, 'epoch': 1.33}\n",
      "{'loss': 1.7857, 'learning_rate': 5.4603637285343134e-05, 'epoch': 1.36}\n",
      "{'loss': 1.7797, 'learning_rate': 5.3547514944131126e-05, 'epoch': 1.39}\n",
      "{'loss': 1.781, 'learning_rate': 5.249350484760155e-05, 'epoch': 1.43}\n",
      "{'loss': 1.7776, 'learning_rate': 5.143738250638954e-05, 'epoch': 1.46}\n",
      "{'loss': 1.7705, 'learning_rate': 5.038126016517753e-05, 'epoch': 1.49}\n",
      "{'loss': 1.766, 'learning_rate': 4.932513782396553e-05, 'epoch': 1.52}\n",
      "{'loss': 1.7709, 'learning_rate': 4.827112772743595e-05, 'epoch': 1.55}\n",
      "{'loss': 1.7599, 'learning_rate': 4.7215005386223945e-05, 'epoch': 1.58}\n",
      "{'loss': 1.7611, 'learning_rate': 4.615888304501194e-05, 'epoch': 1.62}\n",
      "{'loss': 1.759, 'learning_rate': 4.510276070379993e-05, 'epoch': 1.65}\n",
      "{'loss': 1.7604, 'learning_rate': 4.404663836258792e-05, 'epoch': 1.68}\n",
      "{'loss': 1.7622, 'learning_rate': 4.299051602137592e-05, 'epoch': 1.71}\n",
      "{'loss': 1.7714, 'learning_rate': 4.1936505924846335e-05, 'epoch': 1.74}\n",
      "{'loss': 1.7672, 'learning_rate': 4.0880383583634326e-05, 'epoch': 1.77}\n",
      "{'loss': 1.7523, 'learning_rate': 3.9824261242422325e-05, 'epoch': 1.81}\n",
      "{'loss': 1.7708, 'learning_rate': 3.8768138901210316e-05, 'epoch': 1.84}\n",
      "{'loss': 1.7488, 'learning_rate': 3.7712016559998314e-05, 'epoch': 1.87}\n",
      "{'loss': 1.7649, 'learning_rate': 3.6655894218786306e-05, 'epoch': 1.9}\n",
      "{'loss': 1.7725, 'learning_rate': 3.560188412225672e-05, 'epoch': 1.93}\n",
      "{'loss': 1.7651, 'learning_rate': 3.4545761781044714e-05, 'epoch': 1.96}\n",
      "{'loss': 1.756, 'learning_rate': 3.348963943983271e-05, 'epoch': 2.0}\n"
     ]
    },
    {
     "data": {
      "application/vnd.jupyter.widget-view+json": {
       "model_id": "5e679df645654f079153f7cd0c160f1f",
       "version_major": 2,
       "version_minor": 0
      },
      "text/plain": [
       "  0%|          | 0/1973 [00:00<?, ?it/s]"
      ]
     },
     "metadata": {},
     "output_type": "display_data"
    },
    {
     "name": "stdout",
     "output_type": "stream",
     "text": [
      "{'eval_loss': 1.6408618688583374, 'eval_bleu': 25.806, 'eval_gen_len': 13.2742, 'eval_runtime': 734.3411, 'eval_samples_per_second': 85.959, 'eval_steps_per_second': 2.687, 'epoch': 2.0}\n",
      "{'loss': 1.7492, 'learning_rate': 3.243351709862071e-05, 'epoch': 2.03}\n",
      "{'loss': 1.7426, 'learning_rate': 3.13773947574087e-05, 'epoch': 2.06}\n",
      "{'loss': 1.739, 'learning_rate': 3.0321272416196693e-05, 'epoch': 2.09}\n",
      "{'loss': 1.7325, 'learning_rate': 2.9265150074984688e-05, 'epoch': 2.12}\n",
      "{'loss': 1.7447, 'learning_rate': 2.820902773377268e-05, 'epoch': 2.15}\n",
      "{'loss': 1.7442, 'learning_rate': 2.7155017637243103e-05, 'epoch': 2.19}\n",
      "{'loss': 1.7358, 'learning_rate': 2.6098895296031095e-05, 'epoch': 2.22}\n",
      "{'loss': 1.7287, 'learning_rate': 2.504277295481909e-05, 'epoch': 2.25}\n",
      "{'loss': 1.7394, 'learning_rate': 2.398665061360708e-05, 'epoch': 2.28}\n",
      "{'loss': 1.7397, 'learning_rate': 2.29326405170775e-05, 'epoch': 2.31}\n",
      "{'loss': 1.738, 'learning_rate': 2.1878630420547918e-05, 'epoch': 2.34}\n",
      "{'loss': 1.7448, 'learning_rate': 2.0822508079335912e-05, 'epoch': 2.38}\n",
      "{'loss': 1.7291, 'learning_rate': 1.9766385738123904e-05, 'epoch': 2.41}\n",
      "{'loss': 1.7421, 'learning_rate': 1.87102633969119e-05, 'epoch': 2.44}\n",
      "{'loss': 1.7286, 'learning_rate': 1.7656253300382315e-05, 'epoch': 2.47}\n",
      "{'loss': 1.7423, 'learning_rate': 1.6600130959170314e-05, 'epoch': 2.5}\n",
      "{'loss': 1.7307, 'learning_rate': 1.5544008617958305e-05, 'epoch': 2.53}\n",
      "{'loss': 1.7413, 'learning_rate': 1.4487886276746298e-05, 'epoch': 2.57}\n",
      "{'loss': 1.7214, 'learning_rate': 1.3431763935534291e-05, 'epoch': 2.6}\n",
      "{'loss': 1.7305, 'learning_rate': 1.2375641594322288e-05, 'epoch': 2.63}\n",
      "{'loss': 1.7248, 'learning_rate': 1.1319519253110281e-05, 'epoch': 2.66}\n",
      "{'loss': 1.7319, 'learning_rate': 1.0263396911898274e-05, 'epoch': 2.69}\n",
      "{'loss': 1.7295, 'learning_rate': 9.209386815368693e-06, 'epoch': 2.72}\n",
      "{'loss': 1.7317, 'learning_rate': 8.155376718839111e-06, 'epoch': 2.76}\n",
      "{'loss': 1.7363, 'learning_rate': 7.099254377627104e-06, 'epoch': 2.79}\n",
      "{'loss': 1.7203, 'learning_rate': 6.043132036415099e-06, 'epoch': 2.82}\n",
      "{'loss': 1.7113, 'learning_rate': 4.987009695203092e-06, 'epoch': 2.85}\n",
      "{'loss': 1.7322, 'learning_rate': 3.930887353991086e-06, 'epoch': 2.88}\n",
      "{'loss': 1.7271, 'learning_rate': 2.8747650127790803e-06, 'epoch': 2.91}\n",
      "{'loss': 1.7387, 'learning_rate': 1.8186426715670745e-06, 'epoch': 2.95}\n",
      "{'loss': 1.727, 'learning_rate': 7.625203303550683e-07, 'epoch': 2.98}\n"
     ]
    },
    {
     "data": {
      "application/vnd.jupyter.widget-view+json": {
       "model_id": "ab5bf2b641dc45efa091d0d6cdb5644c",
       "version_major": 2,
       "version_minor": 0
      },
      "text/plain": [
       "  0%|          | 0/1973 [00:00<?, ?it/s]"
      ]
     },
     "metadata": {},
     "output_type": "display_data"
    },
    {
     "name": "stdout",
     "output_type": "stream",
     "text": [
      "{'eval_loss': 1.6303457021713257, 'eval_bleu': 25.9715, 'eval_gen_len': 13.2756, 'eval_runtime': 704.7056, 'eval_samples_per_second': 89.574, 'eval_steps_per_second': 2.8, 'epoch': 3.0}\n",
      "{'train_runtime': 8295.7779, 'train_samples_per_second': 182.618, 'train_steps_per_second': 5.707, 'train_loss': 1.7999640508434622, 'epoch': 3.0}\n"
     ]
    },
    {
     "data": {
      "text/plain": [
       "TrainOutput(global_step=47343, training_loss=1.7999640508434622, metrics={'train_runtime': 8295.7779, 'train_samples_per_second': 182.618, 'train_steps_per_second': 5.707, 'train_loss': 1.7999640508434622, 'epoch': 3.0})"
      ]
     },
     "execution_count": 14,
     "metadata": {},
     "output_type": "execute_result"
    }
   ],
   "source": [
    "trainer.train()"
   ]
  },
  {
   "cell_type": "code",
   "execution_count": 15,
   "metadata": {
    "ExecuteTime": {
     "start_time": "2023-11-05T00:28:08.251148Z"
    },
    "execution": {
     "iopub.execute_input": "2023-09-24T15:19:29.403450Z",
     "iopub.status.busy": "2023-09-24T15:19:29.403061Z",
     "iopub.status.idle": "2023-09-24T15:19:30.003295Z",
     "shell.execute_reply": "2023-09-24T15:19:30.002182Z",
     "shell.execute_reply.started": "2023-09-24T15:19:29.403420Z"
    },
    "trusted": true
   },
   "outputs": [],
   "source": [
    "trainer.save_model(f'{out_dir}/best')"
   ]
  }
 ],
 "metadata": {
  "colab": {
   "name": "Translation",
   "provenance": []
  },
  "kernelspec": {
   "display_name": "Python 3",
   "language": "python",
   "name": "python3"
  },
  "language_info": {
   "codemirror_mode": {
    "name": "ipython",
    "version": 3
   },
   "file_extension": ".py",
   "mimetype": "text/x-python",
   "name": "python",
   "nbconvert_exporter": "python",
   "pygments_lexer": "ipython3",
   "version": "3.11.0"
  }
 },
 "nbformat": 4,
 "nbformat_minor": 4
}
